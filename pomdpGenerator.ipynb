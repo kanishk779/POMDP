{
 "cells": [
  {
   "cell_type": "code",
   "execution_count": 3,
   "metadata": {},
   "outputs": [],
   "source": [
    "import numpy as np"
   ]
  },
  {
   "cell_type": "code",
   "execution_count": 10,
   "metadata": {},
   "outputs": [],
   "source": [
    "AGENT_STATES = 3*3\n",
    "TARGET_STATES = 3*3\n",
    "CALL_STATES = 2\n",
    "\n",
    "AGENT_ACTIONS = 5\n",
    "TARGET_ACTIONS = 5\n",
    "CALL_ACTIONS = 2 # (IF ON->(ON, OFF)  OFF->(OFF, ON))\n",
    "\n",
    "AGENT_STATE_VALUES = tuple(range(AGENT_STATES))\n",
    "TARGET_STATE_VALUES = tuple(range(TARGET_STATES))\n",
    "CALL_STATE_VALUES = tuple(range(CALL_STATES))\n",
    "\n",
    "AGENT_ACTION_VALUES = 5\n",
    "TARGET_ACTION_VALUES = 5\n",
    "CALL_ACTIONS_VALUES = 2\n",
    "\n",
    "NUM_STATES = AGENT_STATES*TARGET_STATES*CALL_STATES\n",
    "NUM_ACTIONS = AGENT_ACTIONS*TARGET_ACTIONS*CALL_ACTIONS\n",
    "\n",
    "ACTIONS = ['UP', 'RIGHT', 'DOWN', 'LEFT', 'STAY']\n",
    "TARGET_ACTION_PROB = [0.15, 0.15, 0.15, 0.15, 0.40]\n",
    "\n",
    "X = 0.89"
   ]
  },
  {
   "cell_type": "code",
   "execution_count": 9,
   "metadata": {},
   "outputs": [],
   "source": [
    "class State:\n",
    "    def __init__(self, agent, target, call):\n",
    "        if (agent not in AGENT_STATE_VALUES) or (target not in TARGET_STATE_VALUES) or (call not in CALL_STATE_VALUES):\n",
    "            raise ValueError\n",
    "        self.agent = agent\n",
    "        self.target = target\n",
    "        self.call = call\n",
    "    \n",
    "    def asTuple(self):\n",
    "        return (self.agent, self.target, self.call)\n",
    "    \n",
    "    def asList(self):\n",
    "        return [self.agent, self.target, self.call]\n",
    "    \n",
    "    def getHash(self):\n",
    "        return (self.agent * TARGET_STATES * CALL_STATES +\n",
    "                self.target * CALL_STATES +\n",
    "                self.call)\n",
    "    @classmethod\n",
    "    def fromHash(cls, num):\n",
    "        if type(num)!= int:\n",
    "            raise ValueError\n",
    "        if num not in (0,NUM_STATES):\n",
    "            raise ValueError\n",
    "        \n",
    "        agent = num // (TARGET_STATES*CALL_STATES)\n",
    "        num = num % (TARGET_STATES*CALL_STATES)\n",
    "        \n",
    "        target = num / CALL_STATES\n",
    "        num = num % CALL_STATES\n",
    "        \n",
    "        call = num\n",
    "        return State(agent, target, call)\n",
    "            "
   ]
  },
  {
   "cell_type": "code",
   "execution_count": 11,
   "metadata": {},
   "outputs": [],
   "source": [
    "class Action:\n",
    "    def __init__(self, agent, target, call):\n",
    "        if (agent not in AGENT_ACTION_VALUES) or (target not in TARGET_ACTION_VALUES) or (call not in CALL_ACTION_VALUES):\n",
    "            raise ValueError\n",
    "        self.agent = agent\n",
    "        self.target = target\n",
    "        self.call = call\n",
    "    \n",
    "    def asTuple(self):\n",
    "        return (self.agent, self.target, self.call)\n",
    "    \n",
    "    def asList(self):\n",
    "        return [self.agent, self.target, self.call]\n",
    "    \n",
    "    def getHash(self):\n",
    "        return (self.agent * TARGET_ACTIONS * CALL_ACTIONS +\n",
    "                self.target * CALL_ACTIONS +\n",
    "                self.call)\n",
    "    @classmethod\n",
    "    def fromHash(cls, num):\n",
    "        if type(num)!= int:\n",
    "            raise ValueError\n",
    "        if num not in (0,NUM_STATES):\n",
    "            raise ValueError\n",
    "        \n",
    "        agent = num // (TARGET_ACTIONS*CALL_ACTIONS)\n",
    "        num = num % (TARGET_ACTIONS*CALL_ACTIONS)\n",
    "        \n",
    "        target = num / CALL_ACTIONS\n",
    "        num = num % CALL_ACTIONS\n",
    "        \n",
    "        call = num\n",
    "        return Action(agent, target, call)"
   ]
  },
  {
   "cell_type": "code",
   "execution_count": null,
   "metadata": {},
   "outputs": [],
   "source": []
  }
 ],
 "metadata": {
  "kernelspec": {
   "display_name": "Python 3",
   "language": "python",
   "name": "python3"
  },
  "language_info": {
   "codemirror_mode": {
    "name": "ipython",
    "version": 3
   },
   "file_extension": ".py",
   "mimetype": "text/x-python",
   "name": "python",
   "nbconvert_exporter": "python",
   "pygments_lexer": "ipython3",
   "version": "3.7.5"
  }
 },
 "nbformat": 4,
 "nbformat_minor": 4
}
