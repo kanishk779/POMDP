{
 "cells": [
  {
   "cell_type": "code",
   "execution_count": 1,
   "metadata": {},
   "outputs": [],
   "source": [
    "import numpy as np\n",
    "import math\n",
    "import pandas as pd\n",
    "import copy"
   ]
  },
  {
   "cell_type": "code",
   "execution_count": 2,
   "metadata": {},
   "outputs": [],
   "source": [
    "roll_number = 2019121010"
   ]
  },
  {
   "cell_type": "code",
   "execution_count": 3,
   "metadata": {},
   "outputs": [
    {
     "data": {
      "text/plain": [
       "0.89"
      ]
     },
     "execution_count": 3,
     "metadata": {},
     "output_type": "execute_result"
    }
   ],
   "source": [
    "x = 1-(((roll_number%1000)%40+1)/100)\n",
    "x"
   ]
  },
  {
   "cell_type": "code",
   "execution_count": 4,
   "metadata": {},
   "outputs": [
    {
     "data": {
      "text/plain": [
       "1"
      ]
     },
     "execution_count": 4,
     "metadata": {},
     "output_type": "execute_result"
    }
   ],
   "source": [
    "y = (roll_number%100)%3\n",
    "y"
   ]
  },
  {
   "cell_type": "code",
   "execution_count": 5,
   "metadata": {},
   "outputs": [
    {
     "data": {
      "text/plain": [
       "[(0, 'r'), (1, 'r'), (2, 'g'), (3, 'g'), (4, 'r')]"
      ]
     },
     "execution_count": 5,
     "metadata": {},
     "output_type": "execute_result"
    }
   ],
   "source": [
    "states = ['r','r','g','g','r']\n",
    "states = [(i,states[i]) for i in range(len(states))]\n",
    "states"
   ]
  },
  {
   "cell_type": "code",
   "execution_count": 6,
   "metadata": {},
   "outputs": [],
   "source": [
    "colors = {'r':0,'g':1}"
   ]
  },
  {
   "cell_type": "code",
   "execution_count": 7,
   "metadata": {},
   "outputs": [],
   "source": [
    "actions = {'left':0,'right':1}"
   ]
  },
  {
   "cell_type": "code",
   "execution_count": 8,
   "metadata": {},
   "outputs": [
    {
     "data": {
      "text/plain": [
       "[0.8, 0.95]"
      ]
     },
     "execution_count": 8,
     "metadata": {},
     "output_type": "execute_result"
    }
   ],
   "source": [
    "Os = [[0.9,0.85],[0.8,0.95],[0.85,0.9]]\n",
    "O = Os[y]\n",
    "O"
   ]
  },
  {
   "cell_type": "code",
   "execution_count": 9,
   "metadata": {},
   "outputs": [],
   "source": [
    "def T(s,a,s_):\n",
    "    global states\n",
    "    global colors\n",
    "    global actions\n",
    "    global x\n",
    "    global O\n",
    "    if actions[a] == 0 and s_[0] == max(0,s[0]-1):\n",
    "        return x\n",
    "    elif actions[a] == 0 and s_[0] == min(len(states)-1,s[0]+1):\n",
    "        return 1-x\n",
    "    if actions[a] == 1 and s_[0] == max(0,s[0]-1):\n",
    "        return 1-x\n",
    "    elif actions[a] == 1 and s_[0] == min(len(states)-1,s[0]+1):\n",
    "        return x\n",
    "    else:\n",
    "        return 0\n"
   ]
  },
  {
   "cell_type": "code",
   "execution_count": 10,
   "metadata": {},
   "outputs": [],
   "source": [
    "def o(s,z):\n",
    "    global O\n",
    "    if s[1] == z:\n",
    "        return round(O[colors[s[1]]],5)\n",
    "    else:\n",
    "        return round(1-O[colors[s[1]]],5)"
   ]
  },
  {
   "cell_type": "code",
   "execution_count": 11,
   "metadata": {},
   "outputs": [],
   "source": [
    "def SE(obs,act,b):\n",
    "    b_ = copy.deepcopy(b)\n",
    "    for s_ in states:\n",
    "        b_[s_[0]] = sum([ b[x[0]] * o(s_,obs) * T(x,act,s_) for x in states]) / sum([ sum([b[x[0]] * o(y,obs) * T(x,act,y) for y in states]) for x in states])\n",
    "    return b_"
   ]
  },
  {
   "cell_type": "code",
   "execution_count": 12,
   "metadata": {},
   "outputs": [
    {
     "name": "stdout",
     "output_type": "stream",
     "text": [
      "[0.10666666666666666, 0.4315151515151515, 0.02696969696969697, 0.003333333333333333, 0.4315151515151515]\n",
      "[0.181402835280042, 0.013534287607915372, 0.09072695294904126, 0.6962202004378302, 0.018115723725171215]\n",
      "[0.05062409661221883, 0.02938378954663515, 0.8608850625164868, 0.03617895992357764, 0.02292809140108176]\n"
     ]
    }
   ],
   "source": [
    "b = [0.33,0.33,0,0,0.33]\n",
    "b = SE('r','right',b)\n",
    "print(b)\n",
    "b = SE('g','left',b)\n",
    "print(b)\n",
    "b = SE('g','left',b)\n",
    "print(b)"
   ]
  }
 ],
 "metadata": {
  "kernelspec": {
   "display_name": "Python 3",
   "language": "python",
   "name": "python3"
  },
  "language_info": {
   "codemirror_mode": {
    "name": "ipython",
    "version": 3
   },
   "file_extension": ".py",
   "mimetype": "text/x-python",
   "name": "python",
   "nbconvert_exporter": "python",
   "pygments_lexer": "ipython3",
   "version": "3.7.5"
  }
 },
 "nbformat": 4,
 "nbformat_minor": 2
}
